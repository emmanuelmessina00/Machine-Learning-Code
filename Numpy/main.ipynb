{
 "cells": [
  {
   "cell_type": "code",
   "execution_count": 1,
   "id": "4975836a",
   "metadata": {},
   "outputs": [],
   "source": [
    "import numpy as np"
   ]
  },
  {
   "cell_type": "code",
   "execution_count": 2,
   "id": "38c5bc7f",
   "metadata": {},
   "outputs": [
    {
     "data": {
      "text/plain": [
       "array([1, 2, 3])"
      ]
     },
     "execution_count": 2,
     "metadata": {},
     "output_type": "execute_result"
    }
   ],
   "source": [
    "a1= np.array([1,2,3])\n",
    "a1"
   ]
  },
  {
   "cell_type": "code",
   "execution_count": 3,
   "id": "c1428d14",
   "metadata": {},
   "outputs": [
    {
     "data": {
      "text/plain": [
       "array([[1, 2, 3],\n",
       "       [3, 4, 5]])"
      ]
     },
     "execution_count": 3,
     "metadata": {},
     "output_type": "execute_result"
    }
   ],
   "source": [
    "a2= np.array([[1,2,3],[3,4,5]])\n",
    "a2"
   ]
  },
  {
   "cell_type": "code",
   "execution_count": 4,
   "id": "d090d448",
   "metadata": {},
   "outputs": [
    {
     "data": {
      "text/plain": [
       "6"
      ]
     },
     "execution_count": 4,
     "metadata": {},
     "output_type": "execute_result"
    }
   ],
   "source": [
    "a2.size #quanti sono gli elementi"
   ]
  },
  {
   "cell_type": "code",
   "execution_count": 5,
   "id": "ef56684b",
   "metadata": {},
   "outputs": [
    {
     "data": {
      "text/plain": [
       "(3,)"
      ]
     },
     "execution_count": 5,
     "metadata": {},
     "output_type": "execute_result"
    }
   ],
   "source": [
    "a1.shape #forma, tupla nxm"
   ]
  },
  {
   "cell_type": "code",
   "execution_count": 6,
   "id": "63e527cf",
   "metadata": {},
   "outputs": [
    {
     "data": {
      "text/plain": [
       "(2, 3)"
      ]
     },
     "execution_count": 6,
     "metadata": {},
     "output_type": "execute_result"
    }
   ],
   "source": [
    "a2.shape"
   ]
  },
  {
   "cell_type": "code",
   "execution_count": 7,
   "id": "f861669a",
   "metadata": {},
   "outputs": [
    {
     "data": {
      "text/plain": [
       "2"
      ]
     },
     "execution_count": 7,
     "metadata": {},
     "output_type": "execute_result"
    }
   ],
   "source": [
    "a2.ndim #numero di dimensioni"
   ]
  },
  {
   "cell_type": "code",
   "execution_count": 8,
   "id": "1b9ce9f3",
   "metadata": {},
   "outputs": [],
   "source": [
    "z= np.zeros((3,2)) #soli zero, posso mettere anche un solo numero per avere un array"
   ]
  },
  {
   "cell_type": "code",
   "execution_count": 9,
   "id": "0a6e6d11",
   "metadata": {},
   "outputs": [
    {
     "data": {
      "text/plain": [
       "array([[0., 0.],\n",
       "       [0., 0.],\n",
       "       [0., 0.]])"
      ]
     },
     "execution_count": 9,
     "metadata": {},
     "output_type": "execute_result"
    }
   ],
   "source": [
    "z"
   ]
  },
  {
   "cell_type": "code",
   "execution_count": 10,
   "id": "b7084850",
   "metadata": {},
   "outputs": [
    {
     "data": {
      "text/plain": [
       "array([1., 1., 1.])"
      ]
     },
     "execution_count": 10,
     "metadata": {},
     "output_type": "execute_result"
    }
   ],
   "source": [
    "o= np.ones(3) #stessa cosa ma di soli uno\n",
    "o"
   ]
  },
  {
   "cell_type": "code",
   "execution_count": 11,
   "id": "69636375",
   "metadata": {},
   "outputs": [
    {
     "data": {
      "text/plain": [
       "array([0.        , 0.55555556, 1.11111111, 1.66666667, 2.22222222,\n",
       "       2.77777778, 3.33333333, 3.88888889, 4.44444444, 5.        ])"
      ]
     },
     "execution_count": 11,
     "metadata": {},
     "output_type": "execute_result"
    }
   ],
   "source": [
    "line= np.linspace(0,5, 10) #array di 10 numeri equidistanti \n",
    "line"
   ]
  },
  {
   "cell_type": "code",
   "execution_count": 12,
   "id": "98bc906f",
   "metadata": {},
   "outputs": [
    {
     "data": {
      "text/plain": [
       "array([[1., 0., 0.],\n",
       "       [0., 1., 0.],\n",
       "       [0., 0., 1.]])"
      ]
     },
     "execution_count": 12,
     "metadata": {},
     "output_type": "execute_result"
    }
   ],
   "source": [
    "I=np.eye(3) #Matrice identità\n",
    "I"
   ]
  },
  {
   "cell_type": "code",
   "execution_count": 13,
   "id": "f8e2e4d4",
   "metadata": {},
   "outputs": [
    {
     "name": "stdout",
     "output_type": "stream",
     "text": [
      "Unidimensionale: [10 20 30]\n",
      "Bidimensionale:\n",
      " [[1 2]\n",
      " [3 4]]\n",
      "Tridimensionale:\n",
      " [[[ 5  6]\n",
      "  [ 7  8]]\n",
      "\n",
      " [[ 9 10]\n",
      "  [11 12]]]\n"
     ]
    }
   ],
   "source": [
    "v1 = np.array([10, 20, 30])                # vettore unidimensionale\n",
    "v2 = np.array([[1, 2], [3, 4]])            # vettore bidimensionale (matrice 2x2)\n",
    "v3 = np.array([[[5, 6], [7, 8]], [[9, 10], [11, 12]]])  # vettore tridimensionale (2x2x2)\n",
    "\n",
    "print(\"Unidimensionale:\", v1)\n",
    "print(\"Bidimensionale:\\n\", v2)\n",
    "print(\"Tridimensionale:\\n\", v3)"
   ]
  },
  {
   "cell_type": "code",
   "execution_count": 14,
   "id": "35590375",
   "metadata": {},
   "outputs": [
    {
     "data": {
      "text/plain": [
       "np.int64(20)"
      ]
     },
     "execution_count": 14,
     "metadata": {},
     "output_type": "execute_result"
    }
   ],
   "source": [
    "#Accesso mediante indice al primo vettore a 20\n",
    "v1[1]"
   ]
  },
  {
   "cell_type": "code",
   "execution_count": 15,
   "id": "db7c0005",
   "metadata": {},
   "outputs": [
    {
     "data": {
      "text/plain": [
       "np.int64(3)"
      ]
     },
     "execution_count": 15,
     "metadata": {},
     "output_type": "execute_result"
    }
   ],
   "source": [
    "#Accesso mediante indice al secondo vettore a 3\n",
    "v2[1,0]"
   ]
  },
  {
   "cell_type": "code",
   "execution_count": 16,
   "id": "64814ccd",
   "metadata": {},
   "outputs": [
    {
     "data": {
      "text/plain": [
       "np.int64(10)"
      ]
     },
     "execution_count": 16,
     "metadata": {},
     "output_type": "execute_result"
    }
   ],
   "source": [
    "#Accesso mediante indice al terzo vettore a 10\n",
    "v3[1,0,1]"
   ]
  },
  {
   "cell_type": "code",
   "execution_count": 17,
   "id": "e71c54c5",
   "metadata": {},
   "outputs": [
    {
     "data": {
      "text/plain": [
       "array([[ 5,  7],\n",
       "       [ 9, 11]])"
      ]
     },
     "execution_count": 17,
     "metadata": {},
     "output_type": "execute_result"
    }
   ],
   "source": [
    "#Intervalli di indici al terzo vettore per ottenere 5,7,9,11\n",
    "v3[:,:,0]"
   ]
  },
  {
   "cell_type": "code",
   "execution_count": 18,
   "id": "36c2e446",
   "metadata": {},
   "outputs": [
    {
     "data": {
      "text/plain": [
       "array([[ 50,  68],\n",
       "       [122, 167]])"
      ]
     },
     "execution_count": 18,
     "metadata": {},
     "output_type": "execute_result"
    }
   ],
   "source": [
    "arr1 = np.array([[1, 2, 3], [4, 5, 6]])\n",
    "arr2 = np.array([[7, 8, 9], [10, 11, 12]])\n",
    "\n",
    "mul=arr1.dot(arr2.T) #(Ho trasposto arr2 per renderlo compatibile con la moltiplicazione di matrici)\n",
    "mul"
   ]
  },
  {
   "cell_type": "code",
   "execution_count": 19,
   "id": "eaa8867b",
   "metadata": {},
   "outputs": [
    {
     "data": {
      "text/plain": [
       "array([1, 2, 3, 4, 5, 6])"
      ]
     },
     "execution_count": 19,
     "metadata": {},
     "output_type": "execute_result"
    }
   ],
   "source": [
    "#reshape serve a cambiare la forma dell'array\n",
    "arr3=arr1.reshape((6,))\n",
    "arr3"
   ]
  },
  {
   "cell_type": "code",
   "execution_count": 20,
   "id": "8529f67f",
   "metadata": {},
   "outputs": [
    {
     "data": {
      "text/plain": [
       "array([1, 2, 3, 4, 5, 6])"
      ]
     },
     "execution_count": 20,
     "metadata": {},
     "output_type": "execute_result"
    }
   ],
   "source": [
    "#l'alternativa per avere un array monodimensionale è\n",
    "arr4=arr1.ravel()\n",
    "arr4"
   ]
  },
  {
   "cell_type": "code",
   "execution_count": 21,
   "id": "122d44c9",
   "metadata": {},
   "outputs": [
    {
     "data": {
      "text/plain": [
       "array([[1, 2, 3],\n",
       "       [4, 5, 6],\n",
       "       [7, 8, 9]])"
      ]
     },
     "execution_count": 21,
     "metadata": {},
     "output_type": "execute_result"
    }
   ],
   "source": [
    "# Creo un array bidimensionale (matrice 3x3) con valori a piacere\n",
    "array2d = np.array([[1, 2, 3], [4, 5, 6], [7, 8, 9]])\n",
    "array2d\n"
   ]
  },
  {
   "cell_type": "code",
   "execution_count": 22,
   "id": "3521bfeb",
   "metadata": {},
   "outputs": [
    {
     "data": {
      "text/plain": [
       "array([12, 15, 18])"
      ]
     },
     "execution_count": 22,
     "metadata": {},
     "output_type": "execute_result"
    }
   ],
   "source": [
    "array2d.sum(axis=0) #somma delle righe"
   ]
  },
  {
   "cell_type": "code",
   "execution_count": 23,
   "id": "f19b2686",
   "metadata": {},
   "outputs": [
    {
     "data": {
      "text/plain": [
       "array([ 6, 15, 24])"
      ]
     },
     "execution_count": 23,
     "metadata": {},
     "output_type": "execute_result"
    }
   ],
   "source": [
    "array2d.sum(axis=1) #somma delle colonne"
   ]
  },
  {
   "cell_type": "code",
   "execution_count": 24,
   "id": "6538029b",
   "metadata": {},
   "outputs": [
    {
     "data": {
      "text/plain": [
       "array([1, 2, 3])"
      ]
     },
     "execution_count": 24,
     "metadata": {},
     "output_type": "execute_result"
    }
   ],
   "source": [
    "array2d.min(axis=0) #minimo delle righe"
   ]
  },
  {
   "cell_type": "code",
   "execution_count": 25,
   "id": "36b84cf8",
   "metadata": {},
   "outputs": [
    {
     "data": {
      "text/plain": [
       "array([2, 4, 6, 8])"
      ]
     },
     "execution_count": 25,
     "metadata": {},
     "output_type": "execute_result"
    }
   ],
   "source": [
    "xmask=array2d % 2==0\n",
    "#andiamo a prendere i numeri pari di array2d\n",
    "array2d[xmask]"
   ]
  },
  {
   "cell_type": "code",
   "execution_count": 29,
   "id": "e03d19f8",
   "metadata": {},
   "outputs": [
    {
     "data": {
      "text/plain": [
       "array([4., 4., 4.])"
      ]
     },
     "execution_count": 29,
     "metadata": {},
     "output_type": "execute_result"
    }
   ],
   "source": [
    "array_3x1 = np.ones((3, ))*4\n",
    "array_3x1 "
   ]
  },
  {
   "cell_type": "code",
   "execution_count": 30,
   "id": "205adabc",
   "metadata": {},
   "outputs": [
    {
     "data": {
      "text/plain": [
       "array([[ 5.,  6.,  7.],\n",
       "       [ 8.,  9., 10.],\n",
       "       [11., 12., 13.]])"
      ]
     },
     "execution_count": 30,
     "metadata": {},
     "output_type": "execute_result"
    }
   ],
   "source": [
    "array2d+array_3x1"
   ]
  },
  {
   "cell_type": "code",
   "execution_count": 31,
   "id": "72095f4e",
   "metadata": {},
   "outputs": [
    {
     "name": "stdout",
     "output_type": "stream",
     "text": [
      "Array (3,2):\n",
      " [[0.90465241 0.8773643 ]\n",
      " [0.004295   0.97021835]\n",
      " [0.98277027 0.93769873]]\n",
      "Array (1,2):\n",
      " [[0.8684921  0.40229388]]\n"
     ]
    }
   ],
   "source": [
    "array_3x2 = np.random.rand(3, 2)\n",
    "array_1x2 = np.random.rand(1, 2)\n",
    "\n",
    "print(\"Array (3,2):\\n\", array_3x2)\n",
    "print(\"Array (1,2):\\n\", array_1x2)"
   ]
  },
  {
   "cell_type": "code",
   "execution_count": 32,
   "id": "818542f8",
   "metadata": {},
   "outputs": [
    {
     "data": {
      "text/plain": [
       "array([[1.77314451, 1.27965818],\n",
       "       [0.8727871 , 1.37251223],\n",
       "       [1.85126237, 1.33999261]])"
      ]
     },
     "execution_count": 32,
     "metadata": {},
     "output_type": "execute_result"
    }
   ],
   "source": [
    "array_3x2+array_1x2"
   ]
  }
 ],
 "metadata": {
  "kernelspec": {
   "display_name": "Python 3",
   "language": "python",
   "name": "python3"
  },
  "language_info": {
   "codemirror_mode": {
    "name": "ipython",
    "version": 3
   },
   "file_extension": ".py",
   "mimetype": "text/x-python",
   "name": "python",
   "nbconvert_exporter": "python",
   "pygments_lexer": "ipython3",
   "version": "3.13.7"
  }
 },
 "nbformat": 4,
 "nbformat_minor": 5
}
