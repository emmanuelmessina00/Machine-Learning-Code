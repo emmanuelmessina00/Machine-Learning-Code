{
 "cells": [
  {
   "cell_type": "code",
   "execution_count": 179,
   "id": "0639c602",
   "metadata": {},
   "outputs": [],
   "source": [
    "import numpy as np\n",
    "import matplotlib.pyplot as plt"
   ]
  },
  {
   "cell_type": "code",
   "execution_count": 180,
   "id": "974ed2c6",
   "metadata": {},
   "outputs": [],
   "source": [
    "from sklearn.datasets import load_iris\n",
    "\n",
    "iris = load_iris()\n",
    "D = iris.data\n",
    "L = iris.target"
   ]
  },
  {
   "cell_type": "markdown",
   "id": "9b400b28",
   "metadata": {},
   "source": [
    "## PCA"
   ]
  },
  {
   "cell_type": "code",
   "execution_count": 181,
   "id": "de7c67e5",
   "metadata": {},
   "outputs": [
    {
     "data": {
      "text/plain": [
       "array([5.84333333, 3.05733333, 3.758     , 1.19933333])"
      ]
     },
     "execution_count": 181,
     "metadata": {},
     "output_type": "execute_result"
    }
   ],
   "source": [
    "mu=D.mean(0)\n",
    "mu"
   ]
  },
  {
   "cell_type": "code",
   "execution_count": 182,
   "id": "e4db89c9",
   "metadata": {},
   "outputs": [],
   "source": [
    "#centralizziamo i dati\n",
    "DC=(D-mu)"
   ]
  },
  {
   "cell_type": "code",
   "execution_count": 183,
   "id": "9b5bb7aa",
   "metadata": {},
   "outputs": [
    {
     "data": {
      "text/plain": [
       "array([[ 0.68112222, -0.04215111,  1.26582   ,  0.51282889],\n",
       "       [-0.04215111,  0.18871289, -0.32745867, -0.12082844],\n",
       "       [ 1.26582   , -0.32745867,  3.09550267,  1.286972  ],\n",
       "       [ 0.51282889, -0.12082844,  1.286972  ,  0.57713289]])"
      ]
     },
     "execution_count": 183,
     "metadata": {},
     "output_type": "execute_result"
    }
   ],
   "source": [
    "C=(DC.T @ DC)/DC.shape[0]\n",
    "C"
   ]
  },
  {
   "cell_type": "code",
   "execution_count": 184,
   "id": "31780c77",
   "metadata": {},
   "outputs": [
    {
     "data": {
      "text/plain": [
       "array([0.02367619, 0.0776881 , 0.24105294, 4.20005343])"
      ]
     },
     "execution_count": 184,
     "metadata": {},
     "output_type": "execute_result"
    }
   ],
   "source": [
    "s,U= np.linalg.eigh(C)\n",
    "s"
   ]
  },
  {
   "cell_type": "code",
   "execution_count": 185,
   "id": "dd25ecf5",
   "metadata": {},
   "outputs": [
    {
     "data": {
      "text/plain": [
       "array([[ 0.31548719,  0.58202985,  0.65658877, -0.36138659],\n",
       "       [-0.3197231 , -0.59791083,  0.73016143,  0.08452251],\n",
       "       [-0.47983899, -0.07623608, -0.17337266, -0.85667061],\n",
       "       [ 0.75365743, -0.54583143, -0.07548102, -0.3582892 ]])"
      ]
     },
     "execution_count": 185,
     "metadata": {},
     "output_type": "execute_result"
    }
   ],
   "source": [
    "U"
   ]
  },
  {
   "cell_type": "code",
   "execution_count": 186,
   "id": "70f0214d",
   "metadata": {},
   "outputs": [
    {
     "data": {
      "text/plain": [
       "array([[-0.36138659,  0.65658877],\n",
       "       [ 0.08452251,  0.73016143],\n",
       "       [-0.85667061, -0.17337266],\n",
       "       [-0.3582892 , -0.07548102]])"
      ]
     },
     "execution_count": 186,
     "metadata": {},
     "output_type": "execute_result"
    }
   ],
   "source": [
    "P = U[:, ::-1][:, 0:2]\n",
    "P"
   ]
  },
  {
   "cell_type": "code",
   "execution_count": 187,
   "id": "b141384e",
   "metadata": {},
   "outputs": [
    {
     "data": {
      "text/plain": [
       "array([[-0.36138659, -0.65658877],\n",
       "       [ 0.08452251, -0.73016143],\n",
       "       [-0.85667061,  0.17337266],\n",
       "       [-0.3582892 ,  0.07548102]])"
      ]
     },
     "execution_count": 187,
     "metadata": {},
     "output_type": "execute_result"
    }
   ],
   "source": [
    "#Un altro modo per ottenere P è questo:\n",
    "U, s, Vh = np.linalg.svd(C) #scomposizione Singular Value Decomposition\n",
    "P = U[:, 0:2]\n",
    "P\n",
    "\n"
   ]
  },
  {
   "cell_type": "code",
   "execution_count": 188,
   "id": "3278e86b",
   "metadata": {},
   "outputs": [
    {
     "data": {
      "text/plain": [
       "array([[-2.81823951, -5.64634982],\n",
       "       [-2.78822345, -5.14995135],\n",
       "       [-2.61337456, -5.18200315],\n",
       "       [-2.75702228, -5.0086536 ],\n",
       "       [-2.7736486 , -5.65370709],\n",
       "       [-3.2215055 , -6.06828303],\n",
       "       [-2.68182738, -5.23749119],\n",
       "       [-2.87622016, -5.49033754],\n",
       "       [-2.6159824 , -4.74864082],\n",
       "       [-2.82960933, -5.21317833],\n",
       "       [-2.99541804, -5.97202148],\n",
       "       [-2.8896099 , -5.34168252],\n",
       "       [-2.71625587, -5.09184058],\n",
       "       [-2.27856139, -4.81555799],\n",
       "       [-2.85761474, -6.50571721],\n",
       "       [-3.1163261 , -6.66501491],\n",
       "       [-2.87883726, -6.13763209],\n",
       "       [-2.85406843, -5.63880172],\n",
       "       [-3.30254481, -6.19979162],\n",
       "       [-2.91437873, -5.84051289],\n",
       "       [-3.19210892, -5.71829851],\n",
       "       [-2.9586599 , -5.75994864],\n",
       "       [-2.28642572, -5.46042065],\n",
       "       [-3.19963195, -5.42566143],\n",
       "       [-3.14661108, -5.28967072],\n",
       "       [-2.99569623, -5.1809357 ],\n",
       "       [-3.03354506, -5.45790407],\n",
       "       [-2.94004523, -5.69467143],\n",
       "       [-2.86283042, -5.63899256],\n",
       "       [-2.87037575, -5.12999135],\n",
       "       [-2.91496666, -5.12263409],\n",
       "       [-3.09243264, -5.73787684],\n",
       "       [-2.8535028 , -6.1403164 ],\n",
       "       [-2.90362838, -6.42009834],\n",
       "       [-2.86543825, -5.20563023],\n",
       "       [-2.63612348, -5.39631705],\n",
       "       [-2.87712708, -5.9263226 ],\n",
       "       [-2.70168102, -5.59559631],\n",
       "       [-2.52186309, -4.83899423],\n",
       "       [-2.91235882, -5.55599641],\n",
       "       [-2.73226271, -5.59048011],\n",
       "       [-2.65299643, -4.385992  ],\n",
       "       [-2.50495859, -4.98502652],\n",
       "       [-3.09675065, -5.51582401],\n",
       "       [-3.29287589, -5.76361572],\n",
       "       [-2.78791371, -5.07674437],\n",
       "       [-2.96421687, -5.83072372],\n",
       "       [-2.66290296, -5.09900701],\n",
       "       [-2.95927938, -5.9063626 ],\n",
       "       [-2.79900535, -5.43465866],\n",
       "       [-6.78719082, -6.01211305],\n",
       "       [-6.43485366, -5.64528622],\n",
       "       [-6.96666745, -5.83121539],\n",
       "       [-5.68568285, -4.49899357],\n",
       "       [-6.59046839, -5.40154325],\n",
       "       [-6.14403422, -4.90870571],\n",
       "       [-6.5974258 , -5.61042085],\n",
       "       [-4.75324246, -4.32206162],\n",
       "       [-6.54649696, -5.55531448],\n",
       "       [-5.49361973, -4.60387067],\n",
       "       [-4.99452425, -4.06098139],\n",
       "       [-6.01406369, -5.22297134],\n",
       "       [-5.76734164, -4.77691611],\n",
       "       [-6.48729964, -5.20213472],\n",
       "       [-5.32843976, -5.07209837],\n",
       "       [-6.43022591, -5.79413207],\n",
       "       [-6.16264889, -4.97398291],\n",
       "       [-5.73847013, -4.99334181],\n",
       "       [-6.44709886, -4.78380703],\n",
       "       [-5.54759211, -4.7431182 ],\n",
       "       [-6.61864831, -5.24233572],\n",
       "       [-5.86025355, -5.25802755],\n",
       "       [-6.80054901, -4.99916527],\n",
       "       [-6.42409406, -5.14421478],\n",
       "       [-6.21721846, -5.47600852],\n",
       "       [-6.40253951, -5.65545705],\n",
       "       [-6.83438957, -5.57139345],\n",
       "       [-7.06016729, -5.59444802],\n",
       "       [-6.31565578, -5.16360228],\n",
       "       [-5.19678135, -4.95869039],\n",
       "       [-5.43423864, -4.62178045],\n",
       "       [-5.31274266, -4.64666581],\n",
       "       [-5.63879384, -5.01292014],\n",
       "       [-6.88239157, -4.90599829],\n",
       "       [-6.09037158, -4.84266516],\n",
       "       [-6.30922345, -5.52113489],\n",
       "       [-6.72305602, -5.73457217],\n",
       "       [-6.31746037, -4.95491552],\n",
       "       [-5.74832281, -5.05842818],\n",
       "       [-5.66877835, -4.64502585],\n",
       "       [-5.96716542, -4.65624103],\n",
       "       [-6.39318033, -5.29248813],\n",
       "       [-5.73291316, -4.92256673],\n",
       "       [-4.79783337, -4.31470435],\n",
       "       [-5.85934663, -4.82204248],\n",
       "       [-5.83429961, -5.11429789],\n",
       "       [-5.87858078, -5.03373365],\n",
       "       [-6.14494114, -5.34469077],\n",
       "       [-4.59589527, -4.57085921],\n",
       "       [-5.80136597, -4.97805477],\n",
       "       [-8.03355786, -5.31710347],\n",
       "       [-6.91760101, -4.75203623],\n",
       "       [-8.11904115, -5.67085573],\n",
       "       [-7.47389619, -5.14722467],\n",
       "       [-7.85237105, -5.28669163],\n",
       "       [-8.89940387, -5.87778925],\n",
       "       [-6.02359738, -4.13419385],\n",
       "       [-8.4349522 , -5.68245258],\n",
       "       [-7.82359395, -5.08312107],\n",
       "       [-8.4191161 , -6.10974453],\n",
       "       [-7.16413929, -5.56918098],\n",
       "       [-7.30576709, -5.11131496],\n",
       "       [-7.66795693, -5.54322816],\n",
       "       [-6.84852871, -4.55013423],\n",
       "       [-7.08829336, -4.78731186],\n",
       "       [-7.40682151, -5.44620327],\n",
       "       [-7.45205419, -5.36889584],\n",
       "       [-8.9894205 , -6.50269191],\n",
       "       [-9.29801055, -5.58427555],\n",
       "       [-6.80315685, -4.56580294],\n",
       "       [-7.93018305, -5.70514859],\n",
       "       [-6.70136624, -4.72086105],\n",
       "       [-9.00228517, -5.78762668],\n",
       "       [-6.89113126, -5.12255325],\n",
       "       [-7.77779564, -5.66194318],\n",
       "       [-8.11645561, -5.88785393],\n",
       "       [-6.76087329, -5.14724778],\n",
       "       [-6.79349719, -5.21028393],\n",
       "       [-7.62597386, -5.1172231 ],\n",
       "       [-7.89036815, -5.79159238],\n",
       "       [-8.34403791, -5.70222174],\n",
       "       [-8.73303879, -6.70111766],\n",
       "       [-7.66180278, -5.109675  ],\n",
       "       [-6.94652637, -5.18353917],\n",
       "       [-7.28365994, -4.8270509 ],\n",
       "       [-8.57886506, -6.01503825],\n",
       "       [-7.64660845, -5.46701678],\n",
       "       [-7.40746328, -5.3762531 ],\n",
       "       [-6.67169147, -5.16196231],\n",
       "       [-7.60997628, -5.69924045],\n",
       "       [-7.81651984, -5.51060386],\n",
       "       [-7.42463293, -5.73615604],\n",
       "       [-6.91760101, -4.75203623],\n",
       "       [-8.06537851, -5.60481518],\n",
       "       [-7.92111132, -5.63175077],\n",
       "       [-7.44647493, -5.51448488],\n",
       "       [-7.02953175, -4.95163559],\n",
       "       [-7.26671085, -5.40581143],\n",
       "       [-7.40330675, -5.44358054],\n",
       "       [-6.89255399, -5.04429164]])"
      ]
     },
     "execution_count": 188,
     "metadata": {},
     "output_type": "execute_result"
    }
   ],
   "source": [
    "DP_2D = np.dot(D,P) #proiezione di D nel nuovo spazio vettoriale con una base di dimensione ridotta\n",
    "DP_2D"
   ]
  },
  {
   "cell_type": "code",
   "execution_count": 189,
   "id": "0331b522",
   "metadata": {},
   "outputs": [
    {
     "data": {
      "image/png": "[encoded data removed]",
      "text/plain": [
       "<Figure size 640x480 with 1 Axes>"
      ]
     },
     "metadata": {},
     "output_type": "display_data"
    }
   ],
   "source": [
    "colors = ['red', 'green', 'blue']\n",
    "labels = ['Setosa', 'Versicolor', 'Virginica']\n",
    "\n",
    "for i in range(3):\n",
    "    plt.scatter(DP_2D[L == i, 0], DP_2D[L == i, 1], label=labels[i], c=colors[i], alpha=0.6)\n",
    "\n",
    "plt.xlabel('First principal component')\n",
    "plt.ylabel('Second principal component')\n",
    "plt.title('PCA - Iris Dataset')\n",
    "plt.legend()\n",
    "plt.grid(True)\n",
    "plt.show()"
   ]
  },
  {
   "cell_type": "markdown",
   "id": "34af2e90",
   "metadata": {},
   "source": [
    "## LDA"
   ]
  },
  {
   "cell_type": "code",
   "execution_count": 190,
   "id": "a78a28d9",
   "metadata": {},
   "outputs": [],
   "source": [
    "def vcol(v):\n",
    "    return v.reshape((v.size, 1))   # shape (d,1)\n",
    "\n",
    "def vrow(v):\n",
    "    return v.reshape((1, v.size))   # shape (1,d)\n"
   ]
  },
  {
   "cell_type": "code",
   "execution_count": 191,
   "id": "21f3ea8e",
   "metadata": {},
   "outputs": [
    {
     "data": {
      "text/plain": [
       "(array([[ 0.42141422, -0.13301778,  1.101656  ,  0.47519556],\n",
       "        [-0.13301778,  0.07563289, -0.38159733, -0.15288444],\n",
       "        [ 1.101656  , -0.38159733,  2.91401867,  1.24516   ],\n",
       "        [ 0.47519556, -0.15288444,  1.24516   ,  0.53608889]]),\n",
       " array([[0.259708  , 0.09086667, 0.164164  , 0.03763333],\n",
       "        [0.09086667, 0.11308   , 0.05413867, 0.032056  ],\n",
       "        [0.164164  , 0.05413867, 0.181484  , 0.041812  ],\n",
       "        [0.03763333, 0.032056  , 0.041812  , 0.041044  ]]))"
      ]
     },
     "execution_count": 191,
     "metadata": {},
     "output_type": "execute_result"
    }
   ],
   "source": [
    "def compute_Sb_Sw(D, L):\n",
    "    Sb = 0\n",
    "    Sw = 0\n",
    "    muGlobal = vcol(D.mean(1))\n",
    "    for i in np.unique(L):\n",
    "        DCls = D[:, L == i]\n",
    "        mu = vcol(DCls.mean(1))\n",
    "        Sb += (mu - muGlobal) @ (mu - muGlobal).T * DCls.shape[1]\n",
    "        Sw += (DCls - mu) @ (DCls - mu).T\n",
    "    return Sb / D.shape[1], Sw / D.shape[1]\n",
    "\n",
    "SB, SW = compute_Sb_Sw(D.T, L)\n",
    "\n",
    "SB, SW"
   ]
  },
  {
   "cell_type": "code",
   "execution_count": 192,
   "id": "d90da33d",
   "metadata": {},
   "outputs": [
    {
     "data": {
      "text/plain": [
       "array([[ 0.83779794,  0.02434685],\n",
       "       [ 1.55005187,  2.18649663],\n",
       "       [-2.22355955, -0.94138258],\n",
       "       [-2.83899363,  2.86801283]])"
      ]
     },
     "execution_count": 192,
     "metadata": {},
     "output_type": "execute_result"
    }
   ],
   "source": [
    "import scipy\n",
    "\n",
    "s, U = scipy.linalg.eigh(SB, SW)\n",
    "W = U[:, ::-1][:, 0:2] #m=2\n",
    "W"
   ]
  },
  {
   "cell_type": "code",
   "execution_count": 193,
   "id": "90d23e56",
   "metadata": {},
   "outputs": [
    {
     "data": {
      "text/plain": [
       "array([[  6.01716893,   7.03257409],\n",
       "       [  5.0745834 ,   5.9344564 ],\n",
       "       [  5.43939015,   6.46102462],\n",
       "       [  4.75589325,   6.05166375],\n",
       "       [  6.08839432,   7.24878907],\n",
       "       [  5.65366246,   8.20566459],\n",
       "       [  5.15936541,   7.08855228],\n",
       "       [  5.55602799,   6.71735148],\n",
       "       [  4.50067925,   5.70363331],\n",
       "       [  5.291132  ,   5.77216652],\n",
       "       [  6.35616273,   7.38303921],\n",
       "       [  5.16611245,   6.61834385],\n",
       "       [  5.27470297,   5.64522043],\n",
       "       [  5.52287187,   5.91546178],\n",
       "       [  7.82336533,   8.33114171],\n",
       "       [  7.12473969,   9.49449347],\n",
       "       [  6.54308629,   8.58221762],\n",
       "       [  5.73326956,   7.31937537],\n",
       "       [  6.03389602,   7.70751769],\n",
       "       [  5.97592917,   7.8811861 ],\n",
       "       [  5.44643525,   6.5388137 ],\n",
       "       [  5.53702462,   7.94933772],\n",
       "       [  6.64269897,   7.61560336],\n",
       "       [  4.1883926 ,   7.17326384],\n",
       "       [  4.49904458,   6.33592908],\n",
       "       [  4.71365129,   5.74861457],\n",
       "       [  4.76587331,   7.19681579],\n",
       "       [  5.87859277,   6.94087051],\n",
       "       [  5.94594353,   6.81635911],\n",
       "       [  4.77232228,   6.17860984],\n",
       "       [  4.70109689,   5.96239486],\n",
       "       [  5.32334844,   7.30069279],\n",
       "       [  7.09252325,   7.96596721],\n",
       "       [  7.43732441,   8.57286047],\n",
       "       [  5.00723264,   6.05896781],\n",
       "       [  5.91308548,   6.56246693],\n",
       "       [  6.57464406,   7.13645108],\n",
       "       [  6.28851389,   6.9595531 ],\n",
       "       [  4.87804039,   6.01642124],\n",
       "       [  5.63980778,   6.71978617],\n",
       "       [  5.87184573,   7.41107894],\n",
       "       [  3.59288451,   4.77510956],\n",
       "       [  5.18805077,   6.45372056],\n",
       "       [  4.35307977,   7.98906802],\n",
       "       [  4.80260599,   7.79143435],\n",
       "       [  4.70690425,   6.218823  ],\n",
       "       [  6.03747258,   7.50024656],\n",
       "       [  5.1332544 ,   6.36445167],\n",
       "       [  6.27238293,   7.38060453],\n",
       "       [  5.62337876,   6.59284008],\n",
       "       [ -3.60056945,   6.75793699],\n",
       "       [ -3.94243566,   7.21840668],\n",
       "       [ -4.5679657 ,   6.63537741],\n",
       "       [ -4.41192199,   5.12573627],\n",
       "       [ -4.70103257,   6.25210445],\n",
       "       [ -4.58111624,   5.75316267],\n",
       "       [ -4.59982154,   7.53314643],\n",
       "       [ -2.35140578,   5.12834178],\n",
       "       [ -3.89444886,   5.89958623],\n",
       "       [ -4.10478402,   6.37397041],\n",
       "       [ -3.33235865,   4.0679013 ],\n",
       "       [ -4.00427714,   7.0513487 ],\n",
       "       [ -3.29633012,   4.05885618],\n",
       "       [ -4.81960315,   6.08007584],\n",
       "       [ -2.50868725,   6.81662197],\n",
       "       [ -3.33984615,   6.81439805],\n",
       "       [ -4.92268438,   6.76162988],\n",
       "       [ -2.91121972,   5.05309687],\n",
       "       [ -5.66004712,   5.02704068],\n",
       "       [ -3.22797714,   5.08600597],\n",
       "       [ -5.88010058,   7.78422233],\n",
       "       [ -3.13421729,   6.2335927 ],\n",
       "       [ -6.00067559,   5.30887132],\n",
       "       [ -4.40680961,   5.28782361],\n",
       "       [ -3.39494059,   6.17713164],\n",
       "       [ -3.57863113,   6.5933137 ],\n",
       "       [ -4.61050574,   5.78433071],\n",
       "       [ -5.68068516,   6.89132268],\n",
       "       [ -4.7425704 ,   6.55271895],\n",
       "       [ -1.81586897,   5.39684207],\n",
       "       [ -3.24440616,   4.95905988],\n",
       "       [ -2.73815084,   4.76639686],\n",
       "       [ -3.03430654,   5.81497595],\n",
       "       [ -6.67061587,   5.83739136],\n",
       "       [ -5.09024397,   6.75676051],\n",
       "       [ -4.25144382,   7.93276855],\n",
       "       [ -4.29081338,   6.81878455],\n",
       "       [ -4.63110746,   4.76866072],\n",
       "       [ -3.46546184,   6.56458034],\n",
       "       [ -4.10191161,   5.5630356 ],\n",
       "       [ -4.55243088,   5.11833095],\n",
       "       [ -4.44224201,   6.39286376],\n",
       "       [ -3.41166768,   5.50218803],\n",
       "       [ -2.42263118,   4.91212681],\n",
       "       [ -4.15283335,   5.81449309],\n",
       "       [ -3.32013863,   6.18607548],\n",
       "       [ -3.75904318,   6.25422711],\n",
       "       [ -3.56250017,   6.17226227],\n",
       "       [ -1.6456725 ,   5.92107687],\n",
       "       [ -3.69169242,   6.1297157 ],\n",
       "       [-10.04554323,   8.89056062],\n",
       "       [ -7.68987355,   6.69292584],\n",
       "       [ -8.48236704,   7.20102223],\n",
       "       [ -7.78884462,   6.38490602],\n",
       "       [ -9.04658921,   7.56735367],\n",
       "       [ -9.61995976,   6.55422785],\n",
       "       [ -6.8519676 ,   6.22494133],\n",
       "       [ -8.50753837,   5.75028506],\n",
       "       [ -8.5184581 ,   5.33176959],\n",
       "       [ -9.04886548,   9.47428351],\n",
       "       [ -6.61228842,   8.09001823],\n",
       "       [ -7.63190669,   6.51925743],\n",
       "       [ -7.8442826 ,   7.57027121],\n",
       "       [ -8.14520712,   6.63413137],\n",
       "       [ -8.95436517,   8.34558192],\n",
       "       [ -7.99247821,   8.75971088],\n",
       "       [ -7.24392389,   6.70256331],\n",
       "       [ -8.80239378,   8.49852287],\n",
       "       [-11.39106731,   5.97325167],\n",
       "       [ -6.93938649,   4.55148002],\n",
       "       [ -8.46300306,   8.39533127],\n",
       "       [ -7.5416154 ,   7.38178393],\n",
       "       [ -9.78464693,   5.73842367],\n",
       "       [ -6.5423633 ,   6.6065745 ],\n",
       "       [ -7.90775874,   8.035509  ],\n",
       "       [ -7.45923473,   6.68621414],\n",
       "       [ -6.24878195,   6.91692773],\n",
       "       [ -6.24490733,   7.25765412],\n",
       "       [ -8.7117681 ,   7.02909489],\n",
       "       [ -6.75673447,   5.86358876],\n",
       "       [ -8.41795122,   6.00914788],\n",
       "       [ -7.3999676 ,   8.21220444],\n",
       "       [ -8.99566746,   7.31589617],\n",
       "       [ -5.98037194,   5.77654379],\n",
       "       [ -7.28582231,   4.57688252],\n",
       "       [ -8.99219891,   7.60095639],\n",
       "       [ -8.71721486,   9.19896203],\n",
       "       [ -7.17269849,   6.91877829],\n",
       "       [ -6.10633117,   7.34935769],\n",
       "       [ -7.38314166,   7.88549382],\n",
       "       [ -8.84711125,   8.55275178],\n",
       "       [ -7.28387252,   8.74151116],\n",
       "       [ -7.68987355,   6.69292584],\n",
       "       [ -8.99149477,   8.20462007],\n",
       "       [ -9.04335619,   9.18271413],\n",
       "       [ -7.82879325,   8.42385387],\n",
       "       [ -7.358629  ,   6.3619382 ],\n",
       "       [ -7.14465475,   7.55858065],\n",
       "       [ -8.07238338,   9.09800258],\n",
       "       [ -6.85717883,   7.06450823]])"
      ]
     },
     "execution_count": 193,
     "metadata": {},
     "output_type": "execute_result"
    }
   ],
   "source": [
    "\n",
    "DP_2D_LDA = np.dot(D,W) #proiezione di D nel nuovo spazio vettoriale con una base di dimensione ridotta\n",
    "DP_2D_LDA"
   ]
  },
  {
   "cell_type": "code",
   "execution_count": 194,
   "id": "f9bf3a38",
   "metadata": {},
   "outputs": [
    {
     "data": {
      "image/png": "[encoded data removed]",
      "text/plain": [
       "<Figure size 640x480 with 1 Axes>"
      ]
     },
     "metadata": {},
     "output_type": "display_data"
    }
   ],
   "source": [
    "colors = ['red', 'green', 'blue']\n",
    "labels = ['Setosa', 'Versicolor', 'Virginica']\n",
    "\n",
    "for i in range(3):\n",
    "    plt.scatter(DP_2D_LDA[L == i, 0], DP_2D_LDA[L == i, 1], label=labels[i], c=colors[i], alpha=0.6)\n",
    "\n",
    "plt.xlabel('First principal component')\n",
    "plt.ylabel('Second principal component')\n",
    "plt.title('PCA - Iris Dataset')\n",
    "plt.legend()\n",
    "plt.grid(True)\n",
    "plt.show()"
   ]
  },
  {
   "cell_type": "markdown",
   "id": "9676fc70",
   "metadata": {},
   "source": [
    "### PCA e LDA for classification"
   ]
  },
  {
   "cell_type": "markdown",
   "id": "c5e5ae5e",
   "metadata": {},
   "source": [
    "Per evitare overfitting non usiamo i dati di validazione per stimare i parametri (PCA o LDA). Una divisione semplice è 2/3 train e 1/3 validation."
   ]
  },
  {
   "cell_type": "code",
   "execution_count": 195,
   "id": "04c20171",
   "metadata": {},
   "outputs": [],
   "source": [
    "#L’obiettivo del laboratorio è separare versicolor (label 1) e virginica (label 2).\n",
    "\n",
    "DIris = iris['data'].T       # .T perché vogliamo colonna = campione\n",
    "LIris = iris['target']\n",
    "\n",
    "# Prendiamo solo le classi 1 e 2\n",
    "D = DIris[:, LIris != 0]     # shape (4, N) dove N = numero di campioni delle classi 1 e 2\n",
    "L = LIris[LIris != 0]        # labels corrispondenti (1 o 2)\n",
    "def split_db_2to1(D, L, seed=0):\n",
    "    nTrain = int(D.shape[1]*2.0/3.0)\n",
    "    np.random.seed(seed)\n",
    "    idx = np.random.permutation(D.shape[1])\n",
    "    idxTrain = idx[0:nTrain]\n",
    "    idxTest = idx[nTrain:]\n",
    "    DTR = D[:, idxTrain]\n",
    "    DVAL = D[:, idxTest]\n",
    "    LTR = L[idxTrain]\n",
    "    LVAL = L[idxTest]\n",
    "    return (DTR, LTR), (DVAL, LVAL)\n",
    "# DTR and LTR are model training data and labels\n",
    "# DVAL and LVAL are validation data and labels\n",
    "(DTR, LTR), (DVAL, LVAL) = split_db_2to1(D, L)"
   ]
  },
  {
   "cell_type": "code",
   "execution_count": 196,
   "id": "bd659f0e",
   "metadata": {},
   "outputs": [
    {
     "data": {
      "text/plain": [
       "(array([[6.8, 6.3, 6.9, 7.6, 7.2, 6.8, 5.6, 6.3, 6.5, 6.7, 6.3, 5.8, 6.4,\n",
       "         6.1, 4.9, 5.5, 6.3, 6.4, 6. , 6.6, 5. , 6.8, 5.5, 5.6, 5.7, 5.1,\n",
       "         6.3, 5.9, 6.4, 6.2, 6.5, 7.4, 6.7, 7.7, 5.8, 6.7, 6.2, 4.9, 5.7,\n",
       "         6.7, 6.4, 6.4, 5.8, 6.1, 6.5, 6.7, 5.8, 5.5, 5.6, 5.7, 6.9, 7.2,\n",
       "         7. , 5.4, 6. , 6.3, 5.9, 6. , 6.1, 7.1, 5. , 5.5, 6.5, 7.3, 7.2,\n",
       "         7.7],\n",
       "        [2.8, 3.4, 3.1, 3. , 3.2, 3.2, 3. , 2.7, 3. , 3. , 2.9, 2.7, 2.8,\n",
       "         2.9, 2.4, 2.4, 2.5, 2.9, 2.7, 2.9, 2.3, 3. , 2.3, 2.8, 3. , 2.5,\n",
       "         3.3, 3. , 2.8, 2.8, 3.2, 2.8, 3.1, 2.6, 2.7, 3. , 2.2, 2.5, 2.5,\n",
       "         3.3, 3.2, 2.7, 2.6, 3. , 2.8, 3.1, 2.7, 2.6, 3. , 2.8, 3.1, 3.6,\n",
       "         3.2, 3. , 2.9, 3.3, 3. , 3.4, 2.8, 3. , 2. , 2.4, 3. , 2.9, 3. ,\n",
       "         3. ],\n",
       "        [4.8, 5.6, 4.9, 6.6, 6. , 5.9, 4.5, 4.9, 5.8, 5.2, 5.6, 5.1, 5.6,\n",
       "         4.7, 3.3, 3.8, 4.9, 4.3, 5.1, 4.6, 3.3, 5.5, 4. , 4.9, 4.2, 3. ,\n",
       "         4.7, 5.1, 5.6, 4.8, 5.1, 6.1, 5.6, 6.9, 5.1, 5. , 4.5, 4.5, 5. ,\n",
       "         5.7, 4.5, 5.3, 4. , 4.6, 4.6, 4.4, 4.1, 4.4, 4.1, 4.5, 5.1, 6.1,\n",
       "         4.7, 4.5, 4.5, 6. , 4.2, 4.5, 4.7, 5.9, 3.5, 3.7, 5.5, 6.3, 5.8,\n",
       "         6.1],\n",
       "        [1.4, 2.4, 1.5, 2.1, 1.8, 2.3, 1.5, 1.8, 2.2, 2.3, 1.8, 1.9, 2.1,\n",
       "         1.4, 1. , 1.1, 1.5, 1.3, 1.6, 1.3, 1. , 2.1, 1.3, 2. , 1.2, 1.1,\n",
       "         1.6, 1.8, 2.2, 1.8, 2. , 1.9, 2.4, 2.3, 1.9, 1.7, 1.5, 1.7, 2. ,\n",
       "         2.1, 1.5, 1.9, 1.2, 1.4, 1.5, 1.4, 1. , 1.2, 1.3, 1.3, 2.3, 2.5,\n",
       "         1.4, 1.5, 1.5, 2.5, 1.5, 1.6, 1.2, 2.1, 1. , 1. , 1.8, 1.8, 1.6,\n",
       "         2.3]]),\n",
       " array([1, 2, 1, 2, 2, 2, 1, 2, 2, 2, 2, 2, 2, 1, 1, 1, 1, 1, 1, 1, 1, 2,\n",
       "        1, 2, 1, 1, 1, 2, 2, 2, 2, 2, 2, 2, 2, 1, 1, 2, 2, 2, 1, 2, 1, 1,\n",
       "        1, 1, 1, 1, 1, 1, 2, 2, 1, 1, 1, 2, 1, 1, 1, 2, 1, 1, 2, 2, 2, 2]))"
      ]
     },
     "execution_count": 196,
     "metadata": {},
     "output_type": "execute_result"
    }
   ],
   "source": [
    "(DTR, LTR)"
   ]
  },
  {
   "cell_type": "code",
   "execution_count": 197,
   "id": "81b8f7fa",
   "metadata": {},
   "outputs": [
    {
     "data": {
      "text/plain": [
       "(array([[5.8, 6.1, 5.6, 6.9, 5.6, 5.7, 5.7, 6.5, 6.2, 6. , 5.9, 6.7, 7.7,\n",
       "         6.1, 6.6, 6.3, 7.9, 5.7, 5.5, 6.4, 6.7, 6. , 6. , 6.9, 6.4, 6.7,\n",
       "         6.1, 6.3, 5.2, 6.3, 7.7, 5.8, 6.2, 5.6],\n",
       "        [2.7, 2.6, 2.9, 3.1, 2.5, 2.6, 2.8, 3. , 3.4, 2.2, 3.2, 3.3, 2.8,\n",
       "         3. , 3. , 2.3, 3.8, 2.9, 2.5, 3.2, 2.5, 2.2, 3. , 3.2, 3.1, 3.1,\n",
       "         2.8, 2.8, 2.7, 2.5, 3.8, 2.8, 2.9, 2.7],\n",
       "        [3.9, 5.6, 3.6, 5.4, 3.9, 3.5, 4.1, 5.2, 5.4, 5. , 4.8, 5.7, 6.7,\n",
       "         4.9, 4.4, 4.4, 6.4, 4.2, 4. , 5.3, 5.8, 4. , 4.8, 5.7, 5.5, 4.7,\n",
       "         4. , 5.1, 3.9, 5. , 6.7, 5.1, 4.3, 4.2],\n",
       "        [1.2, 1.4, 1.3, 2.1, 1.1, 1. , 1.3, 2. , 2.3, 1.5, 1.8, 2.5, 2. ,\n",
       "         1.8, 1.4, 1.3, 2. , 1.3, 1.3, 2.3, 1.8, 1. , 1.8, 2.3, 1.8, 1.5,\n",
       "         1.3, 1.5, 1.4, 1.9, 2.2, 2.4, 1.3, 1.3]]),\n",
       " array([1, 2, 1, 2, 1, 1, 1, 2, 2, 2, 1, 2, 2, 2, 1, 1, 2, 1, 1, 2, 2, 1,\n",
       "        2, 2, 2, 1, 1, 2, 1, 2, 2, 2, 1, 1]))"
      ]
     },
     "execution_count": 197,
     "metadata": {},
     "output_type": "execute_result"
    }
   ],
   "source": [
    "(DVAL, LVAL)"
   ]
  },
  {
   "cell_type": "markdown",
   "id": "e52fb606",
   "metadata": {},
   "source": [
    "#### PCA"
   ]
  },
  {
   "cell_type": "code",
   "execution_count": 198,
   "id": "bc2a70cd",
   "metadata": {},
   "outputs": [
    {
     "data": {
      "text/plain": [
       "(array([6.26363636, 2.86818182, 4.93030303, 1.68484848]),\n",
       " array([[ 0.53636364,  0.03636364,  0.63636364,  1.33636364,  0.93636364,\n",
       "          0.53636364, -0.66363636,  0.03636364,  0.23636364,  0.43636364,\n",
       "          0.03636364, -0.46363636,  0.13636364, -0.16363636, -1.36363636,\n",
       "         -0.76363636,  0.03636364,  0.13636364, -0.26363636,  0.33636364,\n",
       "         -1.26363636,  0.53636364, -0.76363636, -0.66363636, -0.56363636,\n",
       "         -1.16363636,  0.03636364, -0.36363636,  0.13636364, -0.06363636,\n",
       "          0.23636364,  1.13636364,  0.43636364,  1.43636364, -0.46363636,\n",
       "          0.43636364, -0.06363636, -1.36363636, -0.56363636,  0.43636364,\n",
       "          0.13636364,  0.13636364, -0.46363636, -0.16363636,  0.23636364,\n",
       "          0.43636364, -0.46363636, -0.76363636, -0.66363636, -0.56363636,\n",
       "          0.63636364,  0.93636364,  0.73636364, -0.86363636, -0.26363636,\n",
       "          0.03636364, -0.36363636, -0.26363636, -0.16363636,  0.83636364,\n",
       "         -1.26363636, -0.76363636,  0.23636364,  1.03636364,  0.93636364,\n",
       "          1.43636364],\n",
       "        [-0.06818182,  0.53181818,  0.23181818,  0.13181818,  0.33181818,\n",
       "          0.33181818,  0.13181818, -0.16818182,  0.13181818,  0.13181818,\n",
       "          0.03181818, -0.16818182, -0.06818182,  0.03181818, -0.46818182,\n",
       "         -0.46818182, -0.36818182,  0.03181818, -0.16818182,  0.03181818,\n",
       "         -0.56818182,  0.13181818, -0.56818182, -0.06818182,  0.13181818,\n",
       "         -0.36818182,  0.43181818,  0.13181818, -0.06818182, -0.06818182,\n",
       "          0.33181818, -0.06818182,  0.23181818, -0.26818182, -0.16818182,\n",
       "          0.13181818, -0.66818182, -0.36818182, -0.36818182,  0.43181818,\n",
       "          0.33181818, -0.16818182, -0.26818182,  0.13181818, -0.06818182,\n",
       "          0.23181818, -0.16818182, -0.26818182,  0.13181818, -0.06818182,\n",
       "          0.23181818,  0.73181818,  0.33181818,  0.13181818,  0.03181818,\n",
       "          0.43181818,  0.13181818,  0.53181818, -0.06818182,  0.13181818,\n",
       "         -0.86818182, -0.46818182,  0.13181818,  0.03181818,  0.13181818,\n",
       "          0.13181818],\n",
       "        [-0.13030303,  0.66969697, -0.03030303,  1.66969697,  1.06969697,\n",
       "          0.96969697, -0.43030303, -0.03030303,  0.86969697,  0.26969697,\n",
       "          0.66969697,  0.16969697,  0.66969697, -0.23030303, -1.63030303,\n",
       "         -1.13030303, -0.03030303, -0.63030303,  0.16969697, -0.33030303,\n",
       "         -1.63030303,  0.56969697, -0.93030303, -0.03030303, -0.73030303,\n",
       "         -1.93030303, -0.23030303,  0.16969697,  0.66969697, -0.13030303,\n",
       "          0.16969697,  1.16969697,  0.66969697,  1.96969697,  0.16969697,\n",
       "          0.06969697, -0.43030303, -0.43030303,  0.06969697,  0.76969697,\n",
       "         -0.43030303,  0.36969697, -0.93030303, -0.33030303, -0.33030303,\n",
       "         -0.53030303, -0.83030303, -0.53030303, -0.83030303, -0.43030303,\n",
       "          0.16969697,  1.16969697, -0.23030303, -0.43030303, -0.43030303,\n",
       "          1.06969697, -0.73030303, -0.43030303, -0.23030303,  0.96969697,\n",
       "         -1.43030303, -1.23030303,  0.56969697,  1.36969697,  0.86969697,\n",
       "          1.16969697],\n",
       "        [-0.28484848,  0.71515152, -0.18484848,  0.41515152,  0.11515152,\n",
       "          0.61515152, -0.18484848,  0.11515152,  0.51515152,  0.61515152,\n",
       "          0.11515152,  0.21515152,  0.41515152, -0.28484848, -0.68484848,\n",
       "         -0.58484848, -0.18484848, -0.38484848, -0.08484848, -0.38484848,\n",
       "         -0.68484848,  0.41515152, -0.38484848,  0.31515152, -0.48484848,\n",
       "         -0.58484848, -0.08484848,  0.11515152,  0.51515152,  0.11515152,\n",
       "          0.31515152,  0.21515152,  0.71515152,  0.61515152,  0.21515152,\n",
       "          0.01515152, -0.18484848,  0.01515152,  0.31515152,  0.41515152,\n",
       "         -0.18484848,  0.21515152, -0.48484848, -0.28484848, -0.18484848,\n",
       "         -0.28484848, -0.68484848, -0.48484848, -0.38484848, -0.38484848,\n",
       "          0.61515152,  0.81515152, -0.28484848, -0.18484848, -0.18484848,\n",
       "          0.81515152, -0.18484848, -0.08484848, -0.48484848,  0.41515152,\n",
       "         -0.68484848, -0.68484848,  0.11515152,  0.11515152, -0.08484848,\n",
       "          0.61515152]]))"
      ]
     },
     "execution_count": 198,
     "metadata": {},
     "output_type": "execute_result"
    }
   ],
   "source": [
    "mu= DTR.mean(axis=1)\n",
    "DC=DTR- vcol(mu)\n",
    "mu,DC"
   ]
  },
  {
   "cell_type": "code",
   "execution_count": 199,
   "id": "7551e73d",
   "metadata": {},
   "outputs": [
    {
     "data": {
      "text/plain": [
       "array([[0.45837466, 0.11293388, 0.44973829, 0.17202479],\n",
       "       [0.11293388, 0.09368457, 0.12490358, 0.06754821],\n",
       "       [0.44973829, 0.12490358, 0.65574839, 0.28758035],\n",
       "       [0.17202479, 0.06754821, 0.28758035, 0.17674013]])"
      ]
     },
     "execution_count": 199,
     "metadata": {},
     "output_type": "execute_result"
    }
   ],
   "source": [
    "C=(DC @ DC.T)/DC.shape[1]\n",
    "C"
   ]
  },
  {
   "cell_type": "code",
   "execution_count": 209,
   "id": "889ef484",
   "metadata": {},
   "outputs": [
    {
     "data": {
      "text/plain": [
       "array([[-0.57360601],\n",
       "       [-0.16667285],\n",
       "       [-0.73315983],\n",
       "       [-0.3250738 ]])"
      ]
     },
     "execution_count": 209,
     "metadata": {},
     "output_type": "execute_result"
    }
   ],
   "source": [
    "s,U=np.linalg.eigh(C)\n",
    "P=U[:,::-1][:,:1]\n",
    "P"
   ]
  },
  {
   "cell_type": "markdown",
   "id": "36707262",
   "metadata": {},
   "source": [
    "#### LDA"
   ]
  },
  {
   "cell_type": "code",
   "execution_count": 202,
   "id": "8dd80f96",
   "metadata": {},
   "outputs": [
    {
     "data": {
      "text/plain": [
       "(array([[0.09871779, 0.02684431, 0.19555937, 0.11225541],\n",
       "        [0.02684431, 0.00729977, 0.05317843, 0.03052559],\n",
       "        [0.19555937, 0.05317843, 0.38740197, 0.22237731],\n",
       "        [0.11225541, 0.03052559, 0.22237731, 0.1276495 ]]),\n",
       " array([[0.35965686, 0.08608957, 0.25417892, 0.05976939],\n",
       "        [0.08608957, 0.0863848 , 0.07172516, 0.03702262],\n",
       "        [0.25417892, 0.07172516, 0.26834642, 0.06520304],\n",
       "        [0.05976939, 0.03702262, 0.06520304, 0.04909063]]))"
      ]
     },
     "execution_count": 202,
     "metadata": {},
     "output_type": "execute_result"
    }
   ],
   "source": [
    "SB,SW= compute_Sb_Sw(DTR,LTR)\n",
    "SB,SW"
   ]
  },
  {
   "cell_type": "code",
   "execution_count": 208,
   "id": "5bdc1921",
   "metadata": {},
   "outputs": [
    {
     "data": {
      "text/plain": [
       "array([[-0.88381021],\n",
       "       [-1.56103706],\n",
       "       [ 1.46175793],\n",
       "       [ 4.051348  ]])"
      ]
     },
     "execution_count": 208,
     "metadata": {},
     "output_type": "execute_result"
    }
   ],
   "source": [
    "s, U = scipy.linalg.eigh(SB, SW)   # autovalori in ordine crescente\n",
    "W = U[:, ::-1][:, :1]     # prendi le m direzioni discriminanti più rilevanti\n",
    "W"
   ]
  },
  {
   "cell_type": "code",
   "execution_count": null,
   "id": "cf9f5cf0",
   "metadata": {},
   "outputs": [],
   "source": [
    "# Andiamo ora a proiettare i dati\n",
    "\n",
    "DTR_lda = W.T @ DTR      # shape (m, nTrain)\n",
    "DVAL_lda = W.T @ DVAL    # shape (m, nVal)\n"
   ]
  },
  {
   "cell_type": "code",
   "execution_count": 211,
   "id": "180329f4",
   "metadata": {},
   "outputs": [
    {
     "data": {
      "text/plain": [
       "np.float64(4.078616922547409)"
      ]
     },
     "execution_count": 211,
     "metadata": {},
     "output_type": "execute_result"
    }
   ],
   "source": [
    "threshold = (DTR_lda[0, LTR==1].mean() + DTR_lda[0, LTR==2].mean()) / 2.0 #Projected samples have only 1 dimension\n",
    "threshold"
   ]
  },
  {
   "cell_type": "code",
   "execution_count": 213,
   "id": "31afce7c",
   "metadata": {},
   "outputs": [],
   "source": [
    "PVAL = np.zeros(shape=LVAL.shape, dtype=np.int32)\n",
    "PVAL[DVAL_lda[0] >= threshold] = 2\n",
    "PVAL[DVAL_lda[0] < threshold] = 1\n"
   ]
  },
  {
   "cell_type": "code",
   "execution_count": 215,
   "id": "6bfc272b",
   "metadata": {},
   "outputs": [
    {
     "data": {
      "text/plain": [
       "np.float64(0.058823529411764705)"
      ]
     },
     "execution_count": 215,
     "metadata": {},
     "output_type": "execute_result"
    }
   ],
   "source": [
    "error_count = (PVAL != LVAL).sum()\n",
    "error_rate = error_count / LVAL.size\n",
    "error_rate"
   ]
  }
 ],
 "metadata": {
  "kernelspec": {
   "display_name": "Python 3",
   "language": "python",
   "name": "python3"
  },
  "language_info": {
   "codemirror_mode": {
    "name": "ipython",
    "version": 3
   },
   "file_extension": ".py",
   "mimetype": "text/x-python",
   "name": "python",
   "nbconvert_exporter": "python",
   "pygments_lexer": "ipython3",
   "version": "3.13.7"
  }
 },
 "nbformat": 4,
 "nbformat_minor": 5
}
